{
 "cells": [
  {
   "cell_type": "code",
   "execution_count": 9,
   "metadata": {},
   "outputs": [],
   "source": [
    "import numpy as np\n",
    "import matplotlib.pyplot as plt\n",
    "import with_NN as nn\n",
    "import importlib as il\n",
    "from tqdm.notebook import tqdm"
   ]
  },
  {
   "cell_type": "code",
   "execution_count": 82,
   "metadata": {},
   "outputs": [
    {
     "data": {
      "text/plain": [
       "<module 'with_NN' from '/Users/tingua/Documents/Quant Preparation/TraxQuantChallenge/with_NN.py'>"
      ]
     },
     "execution_count": 82,
     "metadata": {},
     "output_type": "execute_result"
    }
   ],
   "source": [
    "il.reload(nn)"
   ]
  },
  {
   "cell_type": "code",
   "execution_count": 83,
   "metadata": {},
   "outputs": [
    {
     "name": "stdout",
     "output_type": "stream",
     "text": [
      "righteyed\n"
     ]
    }
   ],
   "source": [
    "game = nn.Hangman_Game()"
   ]
  },
  {
   "cell_type": "code",
   "execution_count": 84,
   "metadata": {},
   "outputs": [
    {
     "data": {
      "text/plain": [
       "array(['a', 'b', 'c', 'd', 'e', 'f', 'g', 'h', 'i', 'j', 'k', 'l', 'm',\n",
       "       'n', 'o', 'p', 'q', 'r', 's', 't', 'u', 'v', 'w', 'x', 'y', 'z'],\n",
       "      dtype='<U1')"
      ]
     },
     "execution_count": 84,
     "metadata": {},
     "output_type": "execute_result"
    }
   ],
   "source": [
    "nn.ALPHABET"
   ]
  },
  {
   "cell_type": "code",
   "execution_count": 85,
   "metadata": {},
   "outputs": [
    {
     "name": "stdout",
     "output_type": "stream",
     "text": [
      "|||||\n",
      "_ _ _ _ _ _ _ _ _\n",
      "||||\n",
      "_ _ _ _ _ _ _ _ _\n",
      "||||\n",
      "_ i _ _ _ _ _ _ _\n",
      "||||\n",
      "_ i _ h _ _ _ _ _\n",
      "|||\n",
      "_ i _ h _ _ _ _ _\n",
      "||\n",
      "_ i _ h _ _ _ _ _\n",
      "|\n",
      "_ i _ h _ _ _ _ _\n",
      "\n",
      "_ i _ h _ _ _ _ _\n",
      "Game Over\n"
     ]
    }
   ],
   "source": [
    "let = np.random.choice(nn.ALPHABET,size=10)\n",
    "cnt = 0\n",
    "while not(game.over):\n",
    "    game.guess(let[cnt])\n",
    "    cnt +=1"
   ]
  },
  {
   "cell_type": "code",
   "execution_count": 65,
   "metadata": {},
   "outputs": [
    {
     "name": "stdout",
     "output_type": "stream",
     "text": [
      "|\n",
      "u n f u d d l e d\n"
     ]
    }
   ],
   "source": [
    "game.guess('e')"
   ]
  },
  {
   "cell_type": "code",
   "execution_count": 26,
   "metadata": {},
   "outputs": [],
   "source": [
    "import tensorflow as tf"
   ]
  },
  {
   "cell_type": "code",
   "execution_count": 6,
   "metadata": {},
   "outputs": [
    {
     "data": {
      "text/plain": [
       "False"
      ]
     },
     "execution_count": 6,
     "metadata": {},
     "output_type": "execute_result"
    }
   ],
   "source": [
    "'j' in 'air'"
   ]
  },
  {
   "cell_type": "code",
   "execution_count": 3,
   "metadata": {},
   "outputs": [],
   "source": [
    "file = [s[:-1]  for s in open('words_250000_train.txt').readlines()]"
   ]
  },
  {
   "cell_type": "code",
   "execution_count": 4,
   "metadata": {},
   "outputs": [
    {
     "data": {
      "text/plain": [
       "array(['violetlike'], dtype='<U29')"
      ]
     },
     "execution_count": 4,
     "metadata": {},
     "output_type": "execute_result"
    }
   ],
   "source": [
    "np.random.choice(file,1)"
   ]
  },
  {
   "cell_type": "code",
   "execution_count": 4,
   "metadata": {},
   "outputs": [],
   "source": [
    "words = np.random.choice(file,size=100000)"
   ]
  },
  {
   "cell_type": "code",
   "execution_count": 5,
   "metadata": {},
   "outputs": [
    {
     "name": "stderr",
     "output_type": "stream",
     "text": [
      "2023-05-27 18:19:18.546863: I tensorflow/core/common_runtime/pluggable_device/pluggable_device_factory.cc:306] Could not identify NUMA node of platform GPU ID 0, defaulting to 0. Your kernel may not have been built with NUMA support.\n",
      "2023-05-27 18:19:18.547215: I tensorflow/core/common_runtime/pluggable_device/pluggable_device_factory.cc:272] Created TensorFlow device (/job:localhost/replica:0/task:0/device:GPU:0 with 0 MB memory) -> physical PluggableDevice (device: 0, name: METAL, pci bus id: <undefined>)\n"
     ]
    },
    {
     "name": "stdout",
     "output_type": "stream",
     "text": [
      "Metal device set to: Apple M1 Pro\n",
      "\n",
      "systemMemory: 16.00 GB\n",
      "maxCacheSize: 5.33 GB\n",
      "\n"
     ]
    }
   ],
   "source": [
    "players = nn.Player_populations(100,[36,128,98])"
   ]
  },
  {
   "cell_type": "code",
   "execution_count": 9,
   "metadata": {},
   "outputs": [
    {
     "data": {
      "application/vnd.jupyter.widget-view+json": {
       "model_id": "6a4b5133d1f94bef9681705759e8646b",
       "version_major": 2,
       "version_minor": 0
      },
      "text/plain": [
       "Generation:   0%|          | 0/200 [00:00<?, ?it/s]"
      ]
     },
     "metadata": {},
     "output_type": "display_data"
    }
   ],
   "source": [
    "for w in tqdm(words[100:300],desc='Generation'):\n",
    "    game =  nn.Hangman_Game(w)\n",
    "    players.generation(game)\n",
    "    players.purge_and_reproduce()"
   ]
  },
  {
   "cell_type": "code",
   "execution_count": 7,
   "metadata": {},
   "outputs": [
    {
     "data": {
      "text/plain": [
       "'dentilation'"
      ]
     },
     "execution_count": 7,
     "metadata": {},
     "output_type": "execute_result"
    }
   ],
   "source": [
    "words[101]"
   ]
  },
  {
   "cell_type": "code",
   "execution_count": 10,
   "metadata": {},
   "outputs": [
    {
     "data": {
      "text/plain": [
       "[[False, 1],\n",
       " [False, 1],\n",
       " [False, 1],\n",
       " [False, 1],\n",
       " [False, 1],\n",
       " [False, 1],\n",
       " [False, 1],\n",
       " [False, 1],\n",
       " [False, 1],\n",
       " [False, 1],\n",
       " [False, 1],\n",
       " [False, 1],\n",
       " [False, 1],\n",
       " [False, 1],\n",
       " [False, 1],\n",
       " [False, 1],\n",
       " [False, 1],\n",
       " [False, 1],\n",
       " [False, 1],\n",
       " [False, 1],\n",
       " [False, 1],\n",
       " [False, 1],\n",
       " [False, 1],\n",
       " [False, 1],\n",
       " [False, 1],\n",
       " [False, 1],\n",
       " [False, 1],\n",
       " [False, 1],\n",
       " [False, 1],\n",
       " [False, 1],\n",
       " [False, 1],\n",
       " [False, 1],\n",
       " [False, 1],\n",
       " [False, 1],\n",
       " [False, 1],\n",
       " [False, 1],\n",
       " [False, 1],\n",
       " [False, 1],\n",
       " [False, 1],\n",
       " [False, 1],\n",
       " [False, 1],\n",
       " [False, 1],\n",
       " [False, 1],\n",
       " [False, 1],\n",
       " [False, 1],\n",
       " [False, 1],\n",
       " [False, 1],\n",
       " [False, 1],\n",
       " [False, 1],\n",
       " [False, 1],\n",
       " [False, 1],\n",
       " [False, 1],\n",
       " [False, 1],\n",
       " [False, 1],\n",
       " [False, 1],\n",
       " [False, 1],\n",
       " [False, 1],\n",
       " [False, 1],\n",
       " [False, 1],\n",
       " [False, 1],\n",
       " [False, 1],\n",
       " [False, 1],\n",
       " [False, 1],\n",
       " [False, 1],\n",
       " [False, 1],\n",
       " [False, 1],\n",
       " [False, 1],\n",
       " [False, 1],\n",
       " [False, 1],\n",
       " [False, 1],\n",
       " [False, 1],\n",
       " [False, 1],\n",
       " [False, 1],\n",
       " [False, 1],\n",
       " [False, 1],\n",
       " [False, 1],\n",
       " [False, 1],\n",
       " [False, 1],\n",
       " [False, 1],\n",
       " [False, 1],\n",
       " [False, 1],\n",
       " [False, 1],\n",
       " [False, 1],\n",
       " [False, 1],\n",
       " [False, 1],\n",
       " [False, 1],\n",
       " [False, 1],\n",
       " [False, 1],\n",
       " [False, 1],\n",
       " [False, 1],\n",
       " [False, 1],\n",
       " [False, 1],\n",
       " [False, 1],\n",
       " [False, 1],\n",
       " [False, 1],\n",
       " [False, 1],\n",
       " [False, 1],\n",
       " [False, 1],\n",
       " [False, 1],\n",
       " [False, 1]]"
      ]
     },
     "execution_count": 10,
     "metadata": {},
     "output_type": "execute_result"
    }
   ],
   "source": [
    "players.results"
   ]
  },
  {
   "cell_type": "code",
   "execution_count": 28,
   "metadata": {},
   "outputs": [],
   "source": [
    "players.generation(nn.Hangman_Game(words[101]))"
   ]
  },
  {
   "cell_type": "code",
   "execution_count": null,
   "metadata": {},
   "outputs": [],
   "source": [
    "nn.Hangman_Game"
   ]
  },
  {
   "cell_type": "code",
   "execution_count": 32,
   "metadata": {},
   "outputs": [],
   "source": [
    "players.players[0].initialize_game(game)"
   ]
  },
  {
   "cell_type": "code",
   "execution_count": 33,
   "metadata": {},
   "outputs": [
    {
     "data": {
      "text/plain": [
       "array([[8., 0., 0., 0., 0., 0., 0., 0., 0., 0., 0., 0., 0., 0., 0., 0.,\n",
       "        0., 0., 0., 0., 0., 0., 0., 0., 0., 0., 0.]], dtype=float32)"
      ]
     },
     "execution_count": 33,
     "metadata": {},
     "output_type": "execute_result"
    }
   ],
   "source": [
    "players.players[0].status"
   ]
  },
  {
   "cell_type": "code",
   "execution_count": null,
   "metadata": {},
   "outputs": [],
   "source": [
    "players.players[0].make_a_guess"
   ]
  },
  {
   "cell_type": "code",
   "execution_count": 3,
   "metadata": {},
   "outputs": [
    {
     "data": {
      "text/plain": [
       "<module 'with_NN' from '/Users/tingua/Documents/Quant Preparation/TraxQuantChallenge/with_NN.py'>"
      ]
     },
     "execution_count": 3,
     "metadata": {},
     "output_type": "execute_result"
    }
   ],
   "source": [
    "il.reload(nn)"
   ]
  },
  {
   "cell_type": "code",
   "execution_count": 3,
   "metadata": {},
   "outputs": [
    {
     "name": "stderr",
     "output_type": "stream",
     "text": [
      "2023-05-27 17:37:37.859000: I tensorflow/core/common_runtime/pluggable_device/pluggable_device_factory.cc:306] Could not identify NUMA node of platform GPU ID 0, defaulting to 0. Your kernel may not have been built with NUMA support.\n",
      "2023-05-27 17:37:37.859121: I tensorflow/core/common_runtime/pluggable_device/pluggable_device_factory.cc:272] Created TensorFlow device (/job:localhost/replica:0/task:0/device:GPU:0 with 0 MB memory) -> physical PluggableDevice (device: 0, name: METAL, pci bus id: <undefined>)\n"
     ]
    },
    {
     "name": "stdout",
     "output_type": "stream",
     "text": [
      "Metal device set to: Apple M1 Pro\n",
      "\n",
      "systemMemory: 16.00 GB\n",
      "maxCacheSize: 5.33 GB\n",
      "\n"
     ]
    }
   ],
   "source": [
    "game = nn.Hangman_Game('pop')\n",
    "players = nn.Player_populations(20,[36,128,98])"
   ]
  },
  {
   "cell_type": "code",
   "execution_count": 4,
   "metadata": {},
   "outputs": [],
   "source": [
    "players.generation(game)"
   ]
  },
  {
   "cell_type": "code",
   "execution_count": 6,
   "metadata": {},
   "outputs": [
    {
     "name": "stdout",
     "output_type": "stream",
     "text": [
      "[(27, 36), (36, 128), (128, 98), (98, 26)]\n",
      "[(27, 36), (36, 128), (128, 98), (98, 26)]\n",
      "[(27, 36), (36, 128), (128, 98), (98, 26)]\n",
      "[(27, 36), (36, 128), (128, 98), (98, 26)]\n",
      "[(27, 36), (36, 128), (128, 98), (98, 26)]\n",
      "[(27, 36), (36, 128), (128, 98), (98, 26)]\n",
      "[(27, 36), (36, 128), (128, 98), (98, 26)]\n",
      "[(27, 36), (36, 128), (128, 98), (98, 26)]\n",
      "[(27, 36), (36, 128), (128, 98), (98, 26)]\n",
      "[(27, 36), (36, 128), (128, 98), (98, 26)]\n",
      "[(27, 36), (36, 128), (128, 98), (98, 26)]\n",
      "[(27, 36), (36, 128), (128, 98), (98, 26)]\n",
      "[(27, 36), (36, 128), (128, 98), (98, 26)]\n",
      "[(27, 36), (36, 128), (128, 98), (98, 26)]\n",
      "[(27, 36), (36, 128), (128, 98), (98, 26)]\n",
      "[(27, 36), (36, 128), (128, 98), (98, 26)]\n",
      "[(27, 36), (36, 128), (128, 98), (98, 26)]\n",
      "[(27, 36), (36, 128), (128, 98), (98, 26)]\n",
      "[(27, 36), (36, 128), (128, 98), (98, 26)]\n",
      "[(27, 36), (36, 128), (128, 98), (98, 26)]\n"
     ]
    }
   ],
   "source": [
    "players.purge_and_reproduce()"
   ]
  },
  {
   "cell_type": "code",
   "execution_count": 6,
   "metadata": {},
   "outputs": [
    {
     "data": {
      "text/plain": [
       "[[False, 1],\n",
       " [False, 1],\n",
       " [False, 0],\n",
       " [False, 1],\n",
       " [False, 0],\n",
       " [False, 0],\n",
       " [False, 0],\n",
       " [False, 0],\n",
       " [False, 1],\n",
       " [False, 0],\n",
       " [False, 0],\n",
       " [False, 0],\n",
       " [False, 1],\n",
       " [False, 1],\n",
       " [False, 0],\n",
       " [False, 0],\n",
       " [False, 0],\n",
       " [False, 0],\n",
       " [False, 0],\n",
       " [False, 1]]"
      ]
     },
     "execution_count": 6,
     "metadata": {},
     "output_type": "execute_result"
    }
   ],
   "source": [
    "players.results"
   ]
  }
 ],
 "metadata": {
  "kernelspec": {
   "display_name": "py38",
   "language": "python",
   "name": "python3"
  },
  "language_info": {
   "codemirror_mode": {
    "name": "ipython",
    "version": 3
   },
   "file_extension": ".py",
   "mimetype": "text/x-python",
   "name": "python",
   "nbconvert_exporter": "python",
   "pygments_lexer": "ipython3",
   "version": "3.8.13"
  },
  "orig_nbformat": 4
 },
 "nbformat": 4,
 "nbformat_minor": 2
}
